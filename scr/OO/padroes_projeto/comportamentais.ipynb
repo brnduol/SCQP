{
 "cells": [
  {
   "cell_type": "markdown",
   "metadata": {},
   "source": [
    "# Padrões de Projeto Comportamentais\n",
    "\n",
    "Os padrões de projeto comportamentais são soluções para problemas recorrentes na comunicação e interação entre objetos em sistemas orientados a objetos. Eles fornecem modelos reutilizáveis para organizar responsabilidades, coordenar comportamentos e facilitar comunicação entre objetos.\n",
    "\n",
    "- [Padrão CHAIN OF RESPONSIBILITY](#padrão-chain-of-responsibility)\n",
    "- [Padrão COMMAND](#padrão-command)\n",
    "- [Padrão ITERATOR](#padrão-iterator)\n",
    "- [Padrão MEDIATOR](#padrão-mediator)\n",
    "- [Padrão MEMENTO](#padrão-memento)\n",
    "- [Padrão OBSERVER](#padrão-observer)\n",
    "- [Padrão STATE](#padrão-state)\n",
    "- [Padrão STRATEGY](#padrão-strategy)\n",
    "- [Padrão TEMPLATE METHOD](#padrão-template-method)\n",
    "- [Padrão VISITOR](#padrão-visitor)\n"
   ]
  },
  {
   "cell_type": "markdown",
   "metadata": {},
   "source": [
    "## Padrão CHAIN OF RESPONSIBILITY\n",
    "\n",
    "O padrão **Chain of Responsibility** é um padrão de projeto comportamental que permite que uma solicitação seja passada por uma cadeia de objetos em potencial para que um deles possa lidar com ela. Cada objeto ca cadeia decide se processa a solicitação ou se passa para o próximo objeto na cadeia.\n"
   ]
  },
  {
   "cell_type": "code",
   "execution_count": 5,
   "metadata": {},
   "outputs": [
    {
     "name": "stdout",
     "output_type": "stream",
     "text": [
      "Solucionador com Ensino fundamental NÃO conseguiu resolver seu problema\n",
      "Solucionador com Ensino Médio NÃO conseguiu resolver seu problema\n",
      "Solucionador com Ensino Superior conseguiu resolver seu problema\n",
      "Dúvida resolvida!\n"
     ]
    }
   ],
   "source": [
    "class SolucionadorDuvidas:\n",
    "\n",
    "    def __init__(self) -> None:\n",
    "        self.__solucionadores: list[SolucionadorDuvidas] = []\n",
    "\n",
    "    def add_solucionador(self, solucionador):\n",
    "        self.__solucionadores.append(solucionador)\n",
    "\n",
    "    def solucionar_problema(self, problema):\n",
    "        for solucionador in self.__solucionadores:\n",
    "            if solucionador.resolver(problema):\n",
    "                print('Dúvida resolvida!')\n",
    "                return\n",
    "        print('Sua dúvida não pode ser resolvida!')\n",
    "\n",
    "\n",
    "class SolucionadorEnsinoFundamental(SolucionadorDuvidas):\n",
    "\n",
    "    def resolver(self, problema):\n",
    "        if problema == 'matemática básica':\n",
    "            print(\n",
    "                'Solucionador com Ensino Fundamental conseguiu resolver seu problema'\n",
    "            )\n",
    "            return True\n",
    "        print(\n",
    "            'Solucionador com Ensino fundamental NÃO conseguiu resolver seu problema'\n",
    "        )\n",
    "        return False\n",
    "\n",
    "\n",
    "class SolucionadorEnsinoMedio(SolucionadorDuvidas):\n",
    "\n",
    "    def resolver(self, problema):\n",
    "        if problema == 'matemática intermediaria':\n",
    "            print(\n",
    "                'Solucionador com Ensino Médio conseguiu resolver seu problema'\n",
    "            )\n",
    "            return True\n",
    "        print(\n",
    "            'Solucionador com Ensino Médio NÃO conseguiu resolver seu problema'\n",
    "        )\n",
    "        return False\n",
    "\n",
    "\n",
    "class SolucionadorEnsinoSuperior(SolucionadorDuvidas):\n",
    "\n",
    "    def resolver(self, problema):\n",
    "        if problema == 'matemática avançada':\n",
    "            print(\n",
    "                'Solucionador com Ensino Superior conseguiu resolver seu problema'\n",
    "            )\n",
    "            return True\n",
    "        print(\n",
    "            'Solucionador com Ensino Superior NÃO conseguiu resolver seu problema'\n",
    "        )\n",
    "        return False\n",
    "\n",
    "\n",
    "solucionador = SolucionadorDuvidas()\n",
    "solucionador.add_solucionador(SolucionadorEnsinoFundamental())\n",
    "solucionador.add_solucionador(SolucionadorEnsinoMedio())\n",
    "solucionador.add_solucionador(SolucionadorEnsinoSuperior())\n",
    "\n",
    "solucionador.solucionar_problema('matemática avançada')"
   ]
  },
  {
   "cell_type": "markdown",
   "metadata": {},
   "source": [
    "## Padrão COMMAND\n",
    "\n",
    "O padrão **Command** é um padrão de design comportamental que encapsula uma solicitação como um objeto, permitindo que você parametrize clientes com diferentes solicitações, enfileire ou registre solicitações e implemente recursos de cancelamento de operações. Ele também promove o desacoplamento entre o emissor e o receptor de uma solicitação.\n"
   ]
  },
  {
   "cell_type": "code",
   "execution_count": 8,
   "metadata": {},
   "outputs": [
    {
     "name": "stdout",
     "output_type": "stream",
     "text": [
      "ligada\n",
      "10\n",
      "ligada\n",
      "10\n",
      "ligada\n",
      "10\n"
     ]
    }
   ],
   "source": [
    "class TV:\n",
    "\n",
    "    def __init__(self) -> None:\n",
    "        self.status = 'desligada'\n",
    "        self.volume = 0\n",
    "\n",
    "    def ligar(self):\n",
    "        self.status = 'ligada' if self.status == 'desligada' else self.status\n",
    "\n",
    "    def desligar(self):\n",
    "        self.status = 'desligada' if self.status == 'ligada' else self.status\n",
    "\n",
    "    def aumentar_volume(self):\n",
    "        self.volume += 10 if self.volume < 100 else self.volume\n",
    "\n",
    "    def diminuir_volume(self):\n",
    "        self.volume -= 10 if self.volume >= 10 else self.volume\n",
    "\n",
    "\n",
    "class ControleRemoto:\n",
    "\n",
    "    def __init__(self) -> None:\n",
    "        self.tv: list[TV] = []\n",
    "\n",
    "    def add_tv(self, tv):\n",
    "        self.tv.append(tv)\n",
    "\n",
    "    def ligar(self):\n",
    "        for item in self.tv:\n",
    "            item.ligar()\n",
    "\n",
    "    def desligar(self):\n",
    "        for item in self.tv:\n",
    "            item.desligar()\n",
    "\n",
    "    def aumentar_volume(self):\n",
    "        for item in self.tv:\n",
    "            item.aumentar_volume()\n",
    "\n",
    "    def diminuir_volume(self):\n",
    "        for item in self.tv:\n",
    "            item.diminuir_volume()\n",
    "\n",
    "\n",
    "tv1 = TV()\n",
    "tv2 = TV()\n",
    "tv3 = TV()\n",
    "\n",
    "controle = ControleRemoto()\n",
    "controle.add_tv(tv1)\n",
    "controle.add_tv(tv2)\n",
    "controle.add_tv(tv3)\n",
    "\n",
    "controle.ligar()\n",
    "controle.aumentar_volume()\n",
    "\n",
    "print(tv1.status)\n",
    "print(tv1.volume)\n",
    "print(tv2.status)\n",
    "print(tv2.volume)\n",
    "print(tv3.status)\n",
    "print(tv3.volume)"
   ]
  },
  {
   "cell_type": "markdown",
   "metadata": {},
   "source": [
    "## Padrão ITERATOR\n",
    "\n",
    "O padrão **Iterator** permite percorrer os elementos de uma coleção de forma sequencial sem expor sua implementação interna. Ele fornece uma interface abstrata para acessar cada elemento da coleção, um nó de cada vez, encapsulando a lógica de iteração e separando-a da estrutura da coleção.\n"
   ]
  },
  {
   "cell_type": "code",
   "execution_count": 9,
   "metadata": {},
   "outputs": [
    {
     "name": "stdout",
     "output_type": "stream",
     "text": [
      "Senhora\n",
      "O Senhor dos Anéis\n",
      "Dom Quixote\n"
     ]
    }
   ],
   "source": [
    "class Livro:\n",
    "\n",
    "    def __init__(self, titulo, autor) -> None:\n",
    "        self.titulo = titulo\n",
    "        self.autor = autor\n",
    "\n",
    "\n",
    "class Biblioteca:\n",
    "\n",
    "    def __init__(self) -> None:\n",
    "        self.livros = []\n",
    "        self.indice = 0\n",
    "\n",
    "    def add_livros(self, livro):\n",
    "        self.livros.append(livro)\n",
    "\n",
    "    def __iter__(self):\n",
    "        return self\n",
    "\n",
    "    def __next__(self):\n",
    "        if self.indice < len(self.livros):\n",
    "            livro = self.livros[self.indice]\n",
    "            self.indice += 1\n",
    "            return livro\n",
    "        self.indice = 0\n",
    "        raise StopIteration('parou')\n",
    "\n",
    "\n",
    "livro1 = Livro(\"Senhora\", \"José de Alencar\")\n",
    "livro2 = Livro(\"O Senhor dos Anéis\", \"J.R.R. Tolkien\")\n",
    "livro3 = Livro(\"Dom Quixote\", \"Miguel de Cervantes\")\n",
    "\n",
    "biblioteca = Biblioteca()\n",
    "biblioteca.add_livros(livro1)\n",
    "biblioteca.add_livros(livro2)\n",
    "biblioteca.add_livros(livro3)\n",
    "\n",
    "for livro in biblioteca:\n",
    "    print(livro.titulo)"
   ]
  },
  {
   "cell_type": "markdown",
   "metadata": {},
   "source": [
    "## Padrão MEDIATOR\n",
    "\n",
    "O padrão **Mediator** é um padrão de design comportamental que centraliza a comunicação entre um grupo de objetos inter-relacionados. Ao invés de os objetos se comunicarem diretamente, eles interagem com um objeto mediador que gerencia a comunicação e coordena suas ações. Essa centralização promove o desacoplamento entre os objetos, tornando o sistema mais flexível, reutilizável e fácil de manter.\n"
   ]
  },
  {
   "cell_type": "code",
   "execution_count": 3,
   "metadata": {},
   "outputs": [
    {
     "name": "stdout",
     "output_type": "stream",
     "text": [
      "[Alice]: oi pessoal!\n",
      "[Bob]: oi Alice!\n",
      "[Alice]: oi Bob! Você tá na FGA?\n"
     ]
    }
   ],
   "source": [
    "class ChatRoom:\n",
    "\n",
    "    @staticmethod\n",
    "    def painel_mensagens(user, mensagem):\n",
    "        print(f'[{user}]: {mensagem}')\n",
    "\n",
    "\n",
    "class Usuario:\n",
    "\n",
    "    def __init__(self, nome, chatroom) -> None:\n",
    "        self.nome = nome\n",
    "        self.chatroom = chatroom\n",
    "\n",
    "    def postar_mensagem(self, mensagem):\n",
    "        self.chatroom.painel_mensagens(self.nome, mensagem)\n",
    "\n",
    "\n",
    "chat = ChatRoom()\n",
    "\n",
    "user_1 = Usuario('Alice', chat)\n",
    "user_2 = Usuario('Bob', chat)\n",
    "\n",
    "user_1.postar_mensagem('oi pessoal!')\n",
    "user_2.postar_mensagem('oi Alice!')\n",
    "user_1.postar_mensagem('oi Bob! Você tá na FGA?')"
   ]
  },
  {
   "cell_type": "markdown",
   "metadata": {},
   "source": [
    "## Padrão MEMENTO\n",
    "\n",
    "O padrão Memento permite capturar e armazenar o estado interno de um objeto em um objeto separado, chamado Memento. Isso permite que o objeto seja restaurado para um estado anterior, se necessário, sem violar o encapsulamento.\n"
   ]
  },
  {
   "cell_type": "code",
   "execution_count": 11,
   "metadata": {},
   "outputs": [
    {
     "name": "stdout",
     "output_type": "stream",
     "text": [
      "nome: Rex raça: Labrador idade: 5\n",
      "nome: Rex raça: Poodle idade: 10\n",
      "nome: Rex raça: Labrador idade: 5\n"
     ]
    }
   ],
   "source": [
    "class Backup:\n",
    "\n",
    "    def __init__(self, state) -> None:\n",
    "        self._state = state\n",
    "\n",
    "    def restaurar(self):\n",
    "        return self._state\n",
    "\n",
    "\n",
    "class Cachorro:\n",
    "\n",
    "    def __init__(self, nome, raca, idade) -> None:\n",
    "        self.nome = nome\n",
    "        self.raca = raca\n",
    "        self.idade = idade\n",
    "\n",
    "    def imprimir_dados(self):\n",
    "        return f'nome: {self.nome} raça: {self.raca} idade: {self.idade}'\n",
    "\n",
    "    def salvar(self):\n",
    "        return Backup((self.nome, self.raca, self.idade))\n",
    "\n",
    "    def desfazer(self, backup):\n",
    "        self.nome, self.raca, self.idade = backup.restaurar()\n",
    "\n",
    "\n",
    "dog = Cachorro('Rex', 'Labrador', 5)\n",
    "print(dog.imprimir_dados())\n",
    "\n",
    "backup = dog.salvar()\n",
    "\n",
    "dog.raca = 'Poodle'\n",
    "dog.idade = 10\n",
    "print(dog.imprimir_dados())\n",
    "\n",
    "dog.desfazer(backup)\n",
    "print(dog.imprimir_dados())"
   ]
  },
  {
   "cell_type": "markdown",
   "metadata": {},
   "source": [
    "## Padrão OBSERVER\n",
    "\n",
    "O padrão **Observer** permite que vários objetos sejam notificados sobre mudanças no estado de outro objeto. Essa comunicação unidirecional e assíncrona facilita a criação de sistemas flexíveis e adaptáveis que respondem dinamicamente a eventos e mudanças.\n"
   ]
  },
  {
   "cell_type": "code",
   "execution_count": 12,
   "metadata": {},
   "outputs": [
    {
     "name": "stdout",
     "output_type": "stream",
     "text": [
      "Alice foi notificado sobre o novo capítulo \"Capítulo 1: Introdução ao Python\" no livro \"O Grande Livro de Python\".\n",
      "Bob foi notificado sobre o novo capítulo \"Capítulo 1: Introdução ao Python\" no livro \"O Grande Livro de Python\".\n",
      "Alice foi notificado sobre o novo capítulo \"Capítulo 2: Estruturas de Dados\" no livro \"O Grande Livro de Python\".\n",
      "Bob foi notificado sobre o novo capítulo \"Capítulo 2: Estruturas de Dados\" no livro \"O Grande Livro de Python\".\n",
      "Bob foi notificado sobre o novo capítulo \"Capítulo 3: Programação Orientada a Objetos\" no livro \"O Grande Livro de Python\".\n"
     ]
    }
   ],
   "source": [
    "class Livro:\n",
    "\n",
    "    def __init__(self, titulo) -> None:\n",
    "        self.titulo = titulo\n",
    "        self.capitulos = []\n",
    "        self.leitores = []\n",
    "\n",
    "    def adicionar_capitulo(self, capitulo):\n",
    "        self.capitulos.append(capitulo)\n",
    "        self.notificar_leitores(capitulo)\n",
    "\n",
    "    def registrar_leitor(self, leitor):\n",
    "        self.leitores.append(leitor)\n",
    "\n",
    "    def remover_leitor(self, leitor):\n",
    "        self.leitores.remove(leitor)\n",
    "\n",
    "    def notificar_leitores(self, capitulo):\n",
    "        for leitor in self.leitores:\n",
    "            leitor.atualizar(self.titulo, capitulo)\n",
    "\n",
    "\n",
    "class Leitor:\n",
    "\n",
    "    def __init__(self, nome) -> None:\n",
    "        self.nome = nome\n",
    "\n",
    "    def atualizar(self, titulo_livro, capitulo):\n",
    "        print(\n",
    "            f'{self.nome} foi notificado sobre o novo capítulo \"{capitulo}\" no livro \"{titulo_livro}\".'\n",
    "        )\n",
    "\n",
    "\n",
    "livro = Livro(\"O Grande Livro de Python\")\n",
    "leitor1 = Leitor(\"Alice\")\n",
    "leitor2 = Leitor(\"Bob\")\n",
    "\n",
    "livro.registrar_leitor(leitor1)\n",
    "livro.registrar_leitor(leitor2)\n",
    "\n",
    "livro.adicionar_capitulo(\"Capítulo 1: Introdução ao Python\")\n",
    "livro.adicionar_capitulo(\"Capítulo 2: Estruturas de Dados\")\n",
    "\n",
    "livro.remover_leitor(leitor1)\n",
    "\n",
    "livro.adicionar_capitulo(\"Capítulo 3: Programação Orientada a Objetos\")"
   ]
  },
  {
   "cell_type": "markdown",
   "metadata": {},
   "source": [
    "## Padrão STATE\n",
    "\n",
    "O padrão **State** é um padrão comportamental que encapsula o comportamento dependente do estado em objetos separados, permitindo que um objeto altere seu comportamento alterando seu estado interno. Essa encapsulação facilita a criação de sistemas flexíveis e adaptáveis que respondem dinamicamente a mudanças nas condições.\n"
   ]
  },
  {
   "cell_type": "code",
   "execution_count": 15,
   "metadata": {},
   "outputs": [
    {
     "name": "stdout",
     "output_type": "stream",
     "text": [
      "Emprestando livro\n",
      "Livro já está emprestado\n",
      "Devolvendo livro\n",
      "Livro não está emprestado\n"
     ]
    }
   ],
   "source": [
    "class Livro:\n",
    "\n",
    "    def __init__(self, titulo, autor, genero) -> None:\n",
    "        self.titulo = titulo\n",
    "        self.autor = autor\n",
    "        self.genero = genero\n",
    "        self.__estado_interno = None\n",
    "\n",
    "    def emprestar(self):\n",
    "        if not self.__estado_interno:\n",
    "            self.__estado_interno = 'Emprestado'\n",
    "            print('Emprestando livro')\n",
    "        else:\n",
    "            print('Livro já está emprestado')\n",
    "\n",
    "    def devolver(self):\n",
    "        if self.__estado_interno == 'Emprestado':\n",
    "            self.__estado_interno = None\n",
    "            print('Devolvendo livro')\n",
    "        else:\n",
    "            print('Livro não está emprestado')\n",
    "\n",
    "\n",
    "livro = Livro(\"O Senhor dos Anéis\", \"J.R.R. Tolkien\", \"Fantasia\")\n",
    "livro.emprestar()\n",
    "livro.emprestar()\n",
    "livro.devolver()\n",
    "livro.devolver()"
   ]
  },
  {
   "cell_type": "markdown",
   "metadata": {},
   "source": [
    "## Padrão STRATEGY\n",
    "\n",
    "O padrão **Strategy** encapsula um algoritmo em um objeto separado, permitindo que clientes escolham e utilizem diferentes algoritmos sem alterar o código do cliente. Essa separação de preocupações promove flexibilidade, reuso e testabilidade, tornando o código mais fácil de manter e modificar.\n"
   ]
  },
  {
   "cell_type": "code",
   "execution_count": 1,
   "metadata": {},
   "outputs": [
    {
     "name": "stdout",
     "output_type": "stream",
     "text": [
      "Pagando 100 com cartão de crédito\n",
      "Pagando 50 com boleto bancário\n"
     ]
    }
   ],
   "source": [
    "from abc import ABC, abstractmethod\n",
    "\n",
    "\n",
    "class Pagamento(ABC):\n",
    "\n",
    "    @abstractmethod\n",
    "    def pagar(self, valor):\n",
    "        pass\n",
    "\n",
    "\n",
    "class CartaoCredito(Pagamento):\n",
    "\n",
    "    def pagar(self, valor):\n",
    "        print(f'Pagando {valor} com cartão de crédito')\n",
    "\n",
    "\n",
    "class PayPal(Pagamento):\n",
    "\n",
    "    def pagar(self, valor):\n",
    "        print(f'Pagando {valor} com PayPal')\n",
    "\n",
    "\n",
    "class Boleto(Pagamento):\n",
    "\n",
    "    def pagar(self, valor):\n",
    "        print(f'Pagando {valor} com boleto bancário')\n",
    "\n",
    "\n",
    "class Produto:\n",
    "\n",
    "    def __init__(self, nome, preco) -> None:\n",
    "        self.nome = nome\n",
    "        self.preco = preco\n",
    "\n",
    "    def realizar_pagamento(self, pagamento):\n",
    "        return pagamento.pagar(self.preco)\n",
    "\n",
    "\n",
    "p1 = Produto('mesa', '100')\n",
    "p1.realizar_pagamento(CartaoCredito())\n",
    "\n",
    "p2 = Produto('cadeira', 50)\n",
    "p2.realizar_pagamento(Boleto())"
   ]
  },
  {
   "cell_type": "markdown",
   "metadata": {},
   "source": [
    "## Padrão TEMPLATE METHOD\n",
    "\n",
    "O padrão **Template Method** define um esqueleto de um algoritmo em uma classe abstrata, permitindo que subclasses especializem partes específicas do algoritmo sem alterar sua estrutura geral. Essa separação de responsabilidades facilita a criação de algoritmos flexíveis e reutilizáveis, adaptáveis às necessidades específicas de cada caso.\n"
   ]
  },
  {
   "cell_type": "code",
   "execution_count": 3,
   "metadata": {},
   "outputs": [
    {
     "name": "stdout",
     "output_type": "stream",
     "text": [
      "----- Criando uma página inicial---------\n",
      "\n",
      "<HTML><TITLE>Cabeçalho da página inicial</TITLE>\n",
      "<BODY>Conteúdo da página inicial</BODY>\n",
      "</HTML>\n",
      "\n",
      "----- Criando uma página de Login---------\n",
      "\n",
      "<HTML><TITLE>página de login</TITLE>\n",
      "<BODY>\n",
      "<form><input type='text' id='nome' name='nome'><br>\n",
      "<input type='text' id='senha' name='senha'><br>\n",
      "<input type='submit' value='Submit'>\n",
      "</form>\n",
      "</BODY>\n",
      "</HTML>\n"
     ]
    }
   ],
   "source": [
    "from abc import ABC, abstractmethod\n",
    "\n",
    "\n",
    "class PaginaHTML(ABC):\n",
    "\n",
    "    def ciar_pagina(self):\n",
    "        self.cabecalho()\n",
    "        self.corpo()\n",
    "        self.rodape()\n",
    "\n",
    "    @abstractmethod\n",
    "    def cabecalho():\n",
    "        ...\n",
    "\n",
    "    @abstractmethod\n",
    "    def corpo():\n",
    "        ...\n",
    "\n",
    "    @abstractmethod\n",
    "    def rodape():\n",
    "        ...\n",
    "\n",
    "\n",
    "class PaginaInicial(PaginaHTML):\n",
    "\n",
    "    def cabecalho(self):\n",
    "        print('<HTML><TITLE>Cabeçalho da página inicial</TITLE>')\n",
    "\n",
    "    def corpo(self):\n",
    "        print(\"<BODY>Conteúdo da página inicial</BODY>\")\n",
    "\n",
    "    def rodape(self):\n",
    "        print(\"</HTML>\")\n",
    "\n",
    "\n",
    "class PaginaLogin(PaginaHTML):\n",
    "\n",
    "    def cabecalho(self):\n",
    "        print(\"<HTML><TITLE>página de login</TITLE>\")\n",
    "\n",
    "    def corpo(self):\n",
    "        print(\"<BODY>\")\n",
    "        print(\"<form><input type='text' id='nome' name='nome'><br>\")\n",
    "        print(\"<input type='text' id='senha' name='senha'><br>\")\n",
    "        print(\"<input type='submit' value='Submit'>\")\n",
    "        print(\"</form>\")\n",
    "        print(\"</BODY>\")\n",
    "\n",
    "    def rodape(self):\n",
    "        print(\"</HTML>\")\n",
    "\n",
    "\n",
    "print(\"----- Criando uma página inicial---------\\n\")\n",
    "pagina1 = PaginaInicial()\n",
    "pagina1.ciar_pagina()\n",
    "\n",
    "print(\"\\n----- Criando uma página de Login---------\\n\")\n",
    "pagina2 = PaginaLogin()\n",
    "pagina2.ciar_pagina()"
   ]
  },
  {
   "cell_type": "markdown",
   "metadata": {},
   "source": [
    "## Padrão VISITOR\n",
    "\n",
    "O padrão **Visitor** separa algoritmos de objetos, permitindo que novos algoritmos sejam adicionados sem modificar objetos existentes. Essa separação de responsabilidades facilita a criação de sistemas flexíveis e extensíveis, adaptáveis às necessidades específicas de cada caso.\n"
   ]
  },
  {
   "cell_type": "code",
   "execution_count": 9,
   "metadata": {},
   "outputs": [
    {
     "name": "stdout",
     "output_type": "stream",
     "text": [
      "sentar\n",
      "dar a pata\n"
     ]
    }
   ],
   "source": [
    "class Cachorro:\n",
    "\n",
    "    def __init__(self, nome) -> None:\n",
    "        self.nome = nome\n",
    "        self.novas_funcionalidades = {}\n",
    "\n",
    "    def latir(self):\n",
    "        return 'au au'\n",
    "\n",
    "    def visitor(self, funcionalidade, objeto):\n",
    "        self.novas_funcionalidades[funcionalidade] = objeto\n",
    "\n",
    "\n",
    "class Adestramento:\n",
    "\n",
    "    def sentar(self):\n",
    "        return 'sentar'\n",
    "\n",
    "    def dar_pata(self):\n",
    "        return 'dar a pata'\n",
    "\n",
    "\n",
    "c = Cachorro(\"Rex\")\n",
    "c.visitor(\"sentar\", Adestramento())\n",
    "c.visitor(\"dar a pata\", Adestramento())\n",
    "print(c.novas_funcionalidades[\"sentar\"].sentar())\n",
    "print(c.novas_funcionalidades[\"dar a pata\"].dar_pata())"
   ]
  },
  {
   "cell_type": "code",
   "execution_count": null,
   "metadata": {},
   "outputs": [],
   "source": []
  }
 ],
 "metadata": {
  "kernelspec": {
   "display_name": ".venv",
   "language": "python",
   "name": "python3"
  },
  "language_info": {
   "codemirror_mode": {
    "name": "ipython",
    "version": 3
   },
   "file_extension": ".py",
   "mimetype": "text/x-python",
   "name": "python",
   "nbconvert_exporter": "python",
   "pygments_lexer": "ipython3",
   "version": "3.12.3"
  }
 },
 "nbformat": 4,
 "nbformat_minor": 2
}
