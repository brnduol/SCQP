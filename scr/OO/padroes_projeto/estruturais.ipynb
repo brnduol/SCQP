{
 "cells": [
  {
   "cell_type": "markdown",
   "metadata": {},
   "source": [
    "# Padrões Estruturais\n",
    "\n",
    "Os **Padrões de Projeto Estruturais** servem como guias para a construção de software robusto e adaptável. Ao invés de simplesmente agrupar objetos e classes, esses padrões fornecem soluções comprovadas para organizar e relacioná-los de forma flexível, eficiente e compreensível. Isso garante que, mesmo diante de mudanças frequentes, o código permaneça coeso, fácil de modificar e de entender para qualquer desenvolvedor que o acesse.\n",
    "\n",
    "Com a aplicação desses padrões, é possível estabelecer uma arquitetura clara e organizada, onde cada componente possui um papel definido e as interações entre eles são bem estruturadas. Isso facilita a manutenção do código, a adição de novas funcionalidades e a adaptação do sistema a diferentes cenários.\n",
    "\n",
    "- [Padrão ADAPTER](#padrão-adapter)\n",
    "- [Padrão BRIDGE](#padrão-bridge)\n",
    "- [Padrão COMPOSITE](#padrão-composite)\n",
    "- [Padrão FACADE](#padrão-facade)\n",
    "- [Padrão PROXY](#padrão-proxy)\n",
    "- [Padrão DECORATOR](#padrão-decorator)\n",
    "- [Padrão FLYWEIGHT](#padrão-flyweight)\n"
   ]
  },
  {
   "cell_type": "markdown",
   "metadata": {},
   "source": [
    "## Padrão ADAPTER\n",
    "\n",
    "O padrão **Adapter** é um dos padrões de projeto mais utilizados no desenvolvimento de software. Ele atua como um mediador entre objetos com interfaces incompatíveis, permitindo que eles colaborem entre si de forma eficiente e harmoniosa.\n"
   ]
  },
  {
   "cell_type": "code",
   "execution_count": 3,
   "metadata": {},
   "outputs": [
    {
     "name": "stdout",
     "output_type": "stream",
     "text": [
      "Tocando o áudio: musica.mp3\n",
      "Tocando o áudio: filme.mp3\n"
     ]
    }
   ],
   "source": [
    "class Audio:\n",
    "\n",
    "    def __init__(self, nome) -> None:\n",
    "        self.nome = nome\n",
    "\n",
    "    def play(self):\n",
    "        print(f'Tocando o áudio: {self.nome}')\n",
    "\n",
    "\n",
    "class Filme:\n",
    "\n",
    "    def __init__(self, nome) -> None:\n",
    "        self.nome = nome\n",
    "\n",
    "    def play(self):\n",
    "        print(f'Tocando o filme: {self.audio}')\n",
    "\n",
    "\n",
    "class TocadoraAudio:\n",
    "\n",
    "    def tocar(self, arquivo):\n",
    "        if isinstance(arquivo, Audio):\n",
    "            arquivo.play()\n",
    "        elif isinstance(arquivo, Filme):\n",
    "            audio = AdaptadorAudio.extrairAudio(arquivo)\n",
    "            audio.play()\n",
    "        else:\n",
    "            raise ValueError('Arquivo não suportado')\n",
    "\n",
    "\n",
    "class AdaptadorAudio:\n",
    "\n",
    "    @staticmethod\n",
    "    def extrairAudio(arquivo):\n",
    "        temp = arquivo.nome.replace('.mp4', '.mp3')\n",
    "        return Audio(temp)\n",
    "\n",
    "\n",
    "audio = Audio('musica.mp3')\n",
    "filme = Filme('filme.mp4')\n",
    "\n",
    "tocadora = TocadoraAudio()\n",
    "tocadora.tocar(audio)\n",
    "tocadora.tocar(filme)"
   ]
  },
  {
   "cell_type": "markdown",
   "metadata": {},
   "source": [
    "## Padrão BRIDGE\n",
    "\n",
    "O padrão **Bridge** que permite que você divida uma classe grande ou um conjunto de classes intimamente ligadas em duas hierarquias separadas -abstração e implementação- que podem ser desenvolvidas independentemente umas das outras.\n"
   ]
  },
  {
   "cell_type": "code",
   "execution_count": 6,
   "metadata": {},
   "outputs": [
    {
     "name": "stdout",
     "output_type": "stream",
     "text": [
      "Sou um quadrado da cor azul\n",
      "Sou um circulo da cor verde\n"
     ]
    }
   ],
   "source": [
    "class FormasGeometricas:\n",
    "\n",
    "    def __init__(self, cor) -> None:\n",
    "        self.cor = cor\n",
    "\n",
    "    def desenhar(self):\n",
    "        return f'Sou um {self.tipo} da cor {self.cor.pintar()}'\n",
    "\n",
    "\n",
    "class Quadrado(FormasGeometricas):\n",
    "\n",
    "    def __init__(self, cor) -> None:\n",
    "        super().__init__(cor)\n",
    "        self.tipo = 'quadrado'\n",
    "\n",
    "\n",
    "class Circulo(FormasGeometricas):\n",
    "\n",
    "    def __init__(self, cor) -> None:\n",
    "        super().__init__(cor)\n",
    "        self.tipo = 'circulo'\n",
    "\n",
    "\n",
    "class Cores:\n",
    "\n",
    "    def pintar(self):\n",
    "        return self.cor\n",
    "\n",
    "\n",
    "class Azul(Cores):\n",
    "\n",
    "    def __init__(self) -> None:\n",
    "        super().__init__()\n",
    "        self.cor = 'azul'\n",
    "\n",
    "\n",
    "class Verde(Cores):\n",
    "\n",
    "    def __init__(self) -> None:\n",
    "        super().__init__()\n",
    "        self.cor = 'verde'\n",
    "\n",
    "\n",
    "azul = Azul()\n",
    "verde = Verde()\n",
    "f1 = Quadrado(azul)\n",
    "f2 = Circulo(verde)\n",
    "\n",
    "print(f1.desenhar())\n",
    "print(f2.desenhar())"
   ]
  },
  {
   "cell_type": "markdown",
   "metadata": {},
   "source": [
    "## Padrão COMPOSITE\n",
    "\n",
    "O padrão **Composite**, organiza objetos em uma estrutura hierárquica, similar a uma árvore. O padrão permite tratar cada elemento, individual como um todo, facilitando a navegação e o processamento da estrutura.\n"
   ]
  },
  {
   "cell_type": "code",
   "execution_count": 1,
   "metadata": {},
   "outputs": [
    {
     "name": "stdout",
     "output_type": "stream",
     "text": [
      "BBB111\n",
      "CCC222\n",
      "Mostrando carros do Estacionamento#1\n",
      "AAA111\n",
      "AAA222\n"
     ]
    }
   ],
   "source": [
    "class Carro:\n",
    "\n",
    "    def __init__(self, placa) -> None:\n",
    "        self._placa = placa\n",
    "\n",
    "    @property\n",
    "    def placa(self):\n",
    "        return self._placa\n",
    "\n",
    "\n",
    "class BMW(Carro):\n",
    "    km_litro = 6.5\n",
    "\n",
    "\n",
    "class Audi(Carro):\n",
    "    km_litro = 9.6\n",
    "\n",
    "\n",
    "class Ferrari(Carro):\n",
    "    km_litro = 4.7\n",
    "\n",
    "\n",
    "class Estacionamento(Carro):\n",
    "\n",
    "    def __init__(self, placa) -> None:\n",
    "        super().__init__(placa)\n",
    "        self.carros = {}\n",
    "\n",
    "    def add_carro(self, carro):\n",
    "        self.carros[carro.placa] = carro\n",
    "\n",
    "    def remover_carro(self, carro):\n",
    "        self.carros.pop(carro.placa)\n",
    "\n",
    "    def mostrar_carros(self):\n",
    "        for objeto in self.carros:\n",
    "            if isinstance(self.carros[objeto], Estacionamento):\n",
    "                print(f'Mostrando carros do {self.carros[objeto].placa}')\n",
    "                self.carros[objeto].mostrar_carros()\n",
    "            else:\n",
    "                print(self.carros[objeto].placa)\n",
    "\n",
    "\n",
    "c1 = BMW('AAA111')\n",
    "c2 = BMW('AAA222')\n",
    "c3 = Audi('BBB111')\n",
    "c4 = Ferrari('CCC222')\n",
    "\n",
    "est1 = Estacionamento('Estacionamento#1')\n",
    "est2 = Estacionamento('Estacionamento#2')\n",
    "\n",
    "est1.add_carro(c1)\n",
    "est1.add_carro(c2)\n",
    "est2.add_carro(c3)\n",
    "est2.add_carro(c4)\n",
    "est2.add_carro(est1)\n",
    "\n",
    "est2.mostrar_carros()"
   ]
  },
  {
   "cell_type": "markdown",
   "metadata": {},
   "source": [
    "## Padrão FACADE\n",
    "\n",
    "O padrão **Facade** atua como uma interface simplificada para um subsistema complexo, escondendo seus detalhes internos e fornecendo uma maneira mais fácil de usá-lo.\n"
   ]
  },
  {
   "cell_type": "code",
   "execution_count": 11,
   "metadata": {},
   "outputs": [
    {
     "name": "stdout",
     "output_type": "stream",
     "text": [
      "tocando um MP3\n",
      "tocando um WAV\n",
      "tocando um M4A\n"
     ]
    }
   ],
   "source": [
    "class MP3:\n",
    "\n",
    "    def play(self):\n",
    "        print('tocando um MP3')\n",
    "\n",
    "\n",
    "class WAV:\n",
    "\n",
    "    def reproduzir(self):\n",
    "        print('tocando um WAV')\n",
    "\n",
    "\n",
    "class M4A:\n",
    "\n",
    "    def executar(self):\n",
    "        print('tocando um M4A')\n",
    "\n",
    "\n",
    "class Tocador:\n",
    "\n",
    "    @staticmethod\n",
    "    def tocar(objeto):\n",
    "        if isinstance(objeto, MP3):\n",
    "            objeto.play()\n",
    "        elif isinstance(objeto, WAV):\n",
    "            objeto.reproduzir()\n",
    "        elif isinstance(objeto, M4A):\n",
    "            objeto.executar()\n",
    "\n",
    "\n",
    "audio1 = MP3()\n",
    "audio2 = WAV()\n",
    "audio3 = M4A()\n",
    "\n",
    "Tocador.tocar(audio1)\n",
    "Tocador.tocar(audio2)\n",
    "Tocador.tocar(audio3)"
   ]
  },
  {
   "cell_type": "markdown",
   "metadata": {},
   "source": [
    "## Padrão PROXY\n",
    "\n",
    "O **Proxy** é um padrão que permite que você faça um substituto ou um espaço reservado para outro objeto. Um Proxy controla o acesso ao objeto original, permitindo que você faça algo ou antes ou depois do pedido chegar ao objeto original.\n"
   ]
  },
  {
   "cell_type": "code",
   "execution_count": 46,
   "metadata": {},
   "outputs": [
    {
     "name": "stdout",
     "output_type": "stream",
     "text": [
      "32.5 ns ± 0.707 ns per loop (mean ± std. dev. of 7 runs, 10,000,000 loops each)\n",
      "32 ns ± 0.52 ns per loop (mean ± std. dev. of 7 runs, 10,000,000 loops each)\n"
     ]
    }
   ],
   "source": [
    "import time\n",
    "\n",
    "\n",
    "class CalculadoraFibonacci:\n",
    "\n",
    "    def calcular(self, n):\n",
    "        if n <= 0:\n",
    "            return 0\n",
    "        elif n == 1:\n",
    "            return 1\n",
    "        else:\n",
    "            return self.calcular(n - 1) + self.calcular(n - 2)\n",
    "\n",
    "\n",
    "class FibonacciProxy:\n",
    "\n",
    "    def __init__(self) -> None:\n",
    "        self._calculadora = CalculadoraFibonacci()\n",
    "        self._cache = {}\n",
    "\n",
    "    def calcular(self, n):\n",
    "        if n in self._cache:\n",
    "            return self._cache[n]\n",
    "        else:\n",
    "            resultado = self._calculadora.calcular(n)\n",
    "            self._cache[n] = resultado\n",
    "            return resultado\n",
    "\n",
    "\n",
    "proxy = FibonacciProxy()\n",
    "\n",
    "%timeit proxy.calcular(30)\n",
    "%timeit proxy.calcular(30)"
   ]
  },
  {
   "cell_type": "markdown",
   "metadata": {},
   "source": [
    "## Padrão DECORATOR\n",
    "\n",
    "O padrão decorator insere novas funcionalidades à uma classe já existente, sem alterar seu código original.\n"
   ]
  },
  {
   "cell_type": "code",
   "execution_count": 48,
   "metadata": {},
   "outputs": [
    {
     "name": "stdout",
     "output_type": "stream",
     "text": [
      "Olá mundo\n",
      "Olá mundo [encriptado]\n",
      "Olá mundo [encriptado] [assinado]\n"
     ]
    }
   ],
   "source": [
    "class Mensagem:\n",
    "\n",
    "    def __init__(self, conteudo) -> None:\n",
    "        self._conteudo = conteudo\n",
    "\n",
    "    @property\n",
    "    def conteudo(self):\n",
    "        return self._conteudo\n",
    "\n",
    "\n",
    "class EncriptacaoDecorator:\n",
    "\n",
    "    def __init__(self, mensagem) -> None:\n",
    "        self._mensagem = mensagem\n",
    "\n",
    "    @property\n",
    "    def conteudo(self):\n",
    "        conteudo = self._mensagem.conteudo\n",
    "        return self._encriptar(conteudo)\n",
    "\n",
    "    def _encriptar(self, conteudo):\n",
    "        return f'{conteudo} [encriptado]'\n",
    "\n",
    "\n",
    "class AssinaturaDecorator:\n",
    "\n",
    "    def __init__(self, mensagem) -> None:\n",
    "        self._mensagem = mensagem\n",
    "\n",
    "    @property\n",
    "    def conteudo(self):\n",
    "        conteudo = self._mensagem.conteudo\n",
    "        return self._assinar(conteudo)\n",
    "\n",
    "    def _assinar(self, conteudo):\n",
    "        return f'{conteudo} [assinado]'\n",
    "\n",
    "\n",
    "mensagem = Mensagem('Olá mundo')\n",
    "print(mensagem.conteudo)\n",
    "\n",
    "mensagem_encriptada = EncriptacaoDecorator(mensagem)\n",
    "print(mensagem_encriptada.conteudo)\n",
    "\n",
    "mensagem_encriptada_assinada = AssinaturaDecorator(mensagem_encriptada)\n",
    "print(mensagem_encriptada_assinada.conteudo)"
   ]
  },
  {
   "cell_type": "markdown",
   "metadata": {},
   "source": [
    "## Padrão FLYWEIGHT\n",
    "\n",
    "O objetivo do padrão **Flyweight** é economizar memória. Isso é feito através do agrupamento de atributos comuns em um único espaço em memória.\n"
   ]
  },
  {
   "cell_type": "code",
   "execution_count": 6,
   "metadata": {},
   "outputs": [
    {
     "name": "stdout",
     "output_type": "stream",
     "text": [
      "Homem de Ferro dirigido por João da Silva do genero Ação produzido por Marvel\n",
      "Os Vingadores dirigido por João da Silva do genero Ação produzido por Marvel \n",
      "\n",
      "Homem de Ferro dirigido por João da Silva do genero Ação produzido por Marvel\n",
      "Os Vingadores dirigido por João da Silva do genero Ação produzido por Marvel \n",
      "\n",
      "776\n",
      "760\n"
     ]
    }
   ],
   "source": [
    "from pympler import asizeof\n",
    "\n",
    "\n",
    "class Filme:\n",
    "\n",
    "    def __init__(self, titulo, diretor, genero, produtora) -> None:\n",
    "        self.titulo = titulo\n",
    "        self.diretor = diretor\n",
    "        self.genero = genero\n",
    "        self.produtora = produtora\n",
    "\n",
    "    def mostrar_dados(self):\n",
    "        return f'{self.titulo} dirigido por {self.diretor} do genero {self.genero} produzido por {self.produtora}'\n",
    "\n",
    "\n",
    "class FilmeFlyweight:\n",
    "    atributos_comuns = {}\n",
    "\n",
    "    @classmethod\n",
    "    def get_atributos_comums(cls, diretor, genero, produtora):\n",
    "        key = (diretor, genero, produtora)\n",
    "        if key not in cls.atributos_comuns:\n",
    "            cls.atributos_comuns[key] = (diretor, genero, produtora)\n",
    "        return cls.atributos_comuns[key]\n",
    "\n",
    "\n",
    "class FilmeOtimizado:\n",
    "\n",
    "    def __init__(self, titulo, diretor, genero, produtora) -> None:\n",
    "        self.titulo = titulo\n",
    "        self.atributos_compartilhados = FilmeFlyweight.get_atributos_comums(\n",
    "            diretor, genero, produtora\n",
    "        )\n",
    "\n",
    "    def mostrar_dados(self):\n",
    "        return f'{self.titulo} dirigido por {self.atributos_compartilhados[0]} do genero {self.atributos_compartilhados[1]} produzido por {self.atributos_compartilhados[2]}'\n",
    "\n",
    "\n",
    "filme_1 = Filme('Homem de Ferro', 'João da Silva', 'Ação', 'Marvel')\n",
    "filme_2 = Filme('Os Vingadores', 'João da Silva', 'Ação', 'Marvel')\n",
    "\n",
    "filme_1_otimizado = FilmeOtimizado('Homem de Ferro', 'João da Silva', 'Ação', 'Marvel')\n",
    "filme_2_otimizado = FilmeOtimizado('Os Vingadores', 'João da Silva', 'Ação', 'Marvel')\n",
    "\n",
    "print(filme_1.mostrar_dados())\n",
    "print(filme_2.mostrar_dados(), '\\n')\n",
    "print(filme_1_otimizado.mostrar_dados())\n",
    "print(filme_2_otimizado.mostrar_dados(), '\\n')\n",
    "\n",
    "size_1 = asizeof.asizeof(filme_1)\n",
    "size_2 = asizeof.asizeof(filme_1_otimizado)\n",
    "\n",
    "print(size_1)\n",
    "print(size_2)"
   ]
  },
  {
   "cell_type": "code",
   "execution_count": null,
   "metadata": {},
   "outputs": [],
   "source": []
  }
 ],
 "metadata": {
  "kernelspec": {
   "display_name": ".venv",
   "language": "python",
   "name": "python3"
  },
  "language_info": {
   "codemirror_mode": {
    "name": "ipython",
    "version": 3
   },
   "file_extension": ".py",
   "mimetype": "text/x-python",
   "name": "python",
   "nbconvert_exporter": "python",
   "pygments_lexer": "ipython3",
   "version": "3.12.3"
  }
 },
 "nbformat": 4,
 "nbformat_minor": 2
}
