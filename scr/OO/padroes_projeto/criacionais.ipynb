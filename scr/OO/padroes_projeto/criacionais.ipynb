{
 "cells": [
  {
   "cell_type": "markdown",
   "metadata": {},
   "source": [
    "# Padrões de projeto criacionais\n",
    "\n",
    "Existem 5 padrões de projeto criacionais. Esses padrões servem como guias para a criação de objetos de forma eficiente, flexível e robusta, atendendo às necessidades específicas de cada projeto.\n",
    "\n",
    "Cada um dos cinco padrões de projeto criacionais oferece uma abordagem única para instanciação de objetos, desde a criação direta de objetos individuais, até a construção de estruturas complexas e a geração de famílias inteiras de objetos inter-relacionados. Ao dominar esses padrões, os desenvolvedores podem otimizar seus códigos, aumentar a reutilização e garantir a consistência na criação de objetos, resultando em software mais bem estruturado, fácil de manter e escalável.\n",
    "\n",
    "- [Padrão PROTOTYPE](#padrão-prototype)\n",
    "- [Padrão SINGLETON](#padrão-singleton)\n",
    "- [Padrão BUILDER](#padrão-builder)\n",
    "- [Padrão FACTORY METHOD](#padrão-factory-method)\n",
    "- [Padrão ABSTRACT METHOD](#padrão-abstract-factory)\n"
   ]
  },
  {
   "cell_type": "markdown",
   "metadata": {},
   "source": [
    "## Padrão PROTOTYPE\n",
    "\n",
    "O padrão **Prototype** é um padrão de projeto criacional que permite a criação de novos objetos a partir de um modelo original ou protótipo que é clonado. Esse padrão oferece uma maneira eficiente e flexível de criar objetos, especialmente quando há a necessidade de criar cópias idênticas ou ligeiramente modificadas de objetos existentes.\n"
   ]
  },
  {
   "cell_type": "code",
   "execution_count": 1,
   "metadata": {},
   "outputs": [
    {
     "name": "stdout",
     "output_type": "stream",
     "text": [
      "João Maria\n"
     ]
    }
   ],
   "source": [
    "import copy\n",
    "from abc import ABC, abstractmethod\n",
    "\n",
    "\n",
    "class Prototype(ABC):\n",
    "\n",
    "    @abstractmethod\n",
    "    def clone(self): ...\n",
    "\n",
    "\n",
    "class Pessoa(Prototype):\n",
    "\n",
    "    def clone(self):\n",
    "        return copy.deepcopy(self)\n",
    "\n",
    "    def __init__(self, cpf, nome) -> None:\n",
    "        self.cpf = cpf\n",
    "        self.nome = nome\n",
    "\n",
    "\n",
    "p1 = Pessoa('123', 'João')\n",
    "p2 = p1.clone()\n",
    "p2.nome = 'Maria'\n",
    "print(p1.nome, p2.nome)"
   ]
  },
  {
   "cell_type": "markdown",
   "metadata": {},
   "source": [
    "## Padrão SINGLETON\n",
    "\n",
    "O padrão **Singleton** é um padrão de projeto criacional que garante a existência de apenas uma instância de uma classe e fornece um ponto de acesso global a essa instância. Isso significa que, para qualquer parte do código que precise acessar essa classe, haverá apenas uma única instância disponível para uso.\n"
   ]
  },
  {
   "cell_type": "code",
   "execution_count": 2,
   "metadata": {},
   "outputs": [
    {
     "name": "stdout",
     "output_type": "stream",
     "text": [
      "75\n",
      "75\n"
     ]
    }
   ],
   "source": [
    "from typing import Self\n",
    "\n",
    "\n",
    "class Configuracoes:\n",
    "    __instance = None\n",
    "\n",
    "    def __new__(cls) -> Self:\n",
    "        if not Configuracoes.__instance:\n",
    "            Configuracoes.__instance = super().__new__(cls)\n",
    "        return Configuracoes.__instance\n",
    "\n",
    "    def __init__(self) -> None:\n",
    "        self.volume = 75\n",
    "        self.dificuldade = 'Médio'\n",
    "\n",
    "\n",
    "config1 = Configuracoes()\n",
    "config2 = Configuracoes()\n",
    "\n",
    "print(config1.volume)\n",
    "print(config2.volume)"
   ]
  },
  {
   "cell_type": "markdown",
   "metadata": {},
   "source": [
    "## Padrão BUILDER\n",
    "\n",
    "O padrão builder é um padrão de projeto criacional que permite a construção de objetos complexos passo a passo, de forma incremental e controlada. Ele separa a construção do objeto de sua representação, permitindo a criação de diferentes representações do mesmo objeto usando o mesmo processo de construção.\n"
   ]
  },
  {
   "cell_type": "code",
   "execution_count": 4,
   "metadata": {},
   "outputs": [
    {
     "name": "stdout",
     "output_type": "stream",
     "text": [
      "Olá Como você está? Tchau Minha assinatura\n"
     ]
    }
   ],
   "source": [
    "class Mensagem:\n",
    "\n",
    "    def __init__(self, saudacao, corpo, despedida, assinatura) -> None:\n",
    "        self.saudacao = saudacao\n",
    "        self.corpo = corpo\n",
    "        self.despedida = despedida\n",
    "        self.assinatura = assinatura\n",
    "\n",
    "    def imprimir_mensagem(self):\n",
    "        return f'{self.saudacao} {self.corpo} {self.despedida} {self.assinatura}'\n",
    "\n",
    "\n",
    "class MensagemBuilder:\n",
    "\n",
    "    def saudacao(self, texto):\n",
    "        self.saudacao = texto\n",
    "\n",
    "    def corpo(self, texto):\n",
    "        self.corpo = texto\n",
    "\n",
    "    def despedida(self, texto):\n",
    "        self.despedida = texto\n",
    "\n",
    "    def assinatura(self, texto):\n",
    "        self.assinatura = texto\n",
    "\n",
    "    def build(self):\n",
    "        return Mensagem(\n",
    "            self.saudacao,\n",
    "            self.corpo,\n",
    "            self.despedida,\n",
    "            self.assinatura,\n",
    "        )\n",
    "\n",
    "\n",
    "builder = MensagemBuilder()\n",
    "builder.saudacao('Olá')\n",
    "builder.corpo('Como você está?')\n",
    "builder.despedida('Tchau')\n",
    "builder.assinatura('Minha assinatura')\n",
    "\n",
    "mensagem = builder.build()\n",
    "\n",
    "print(mensagem.imprimir_mensagem())"
   ]
  },
  {
   "cell_type": "markdown",
   "metadata": {},
   "source": [
    "## Padrão FACTORY METHOD\n",
    "\n",
    "O padrão **Factory Method**, é uum padrão de projeto criacional que fornece uma interface para criar objetos em uma superclasse, mas permite que as subclasses alterem o tipo de objeto que será criado. Isso significa que a superclasse define um método de fábrica abstrato, e as subclasses podem redefinir esse método para retornar seus próprios tipos de objetos concretos.\n"
   ]
  },
  {
   "cell_type": "code",
   "execution_count": 7,
   "metadata": {},
   "outputs": [
    {
     "name": "stdout",
     "output_type": "stream",
     "text": [
      "Sou personagem Vampiro e tenho o poder de voar\n",
      "Sou personagem Bruxa e tenho o poder de magia\n"
     ]
    },
    {
     "ename": "ValueError",
     "evalue": "Não foi possível criar o personagem solicitado, verifique se você informou um poder válido",
     "output_type": "error",
     "traceback": [
      "\u001b[0;31m---------------------------------------------------------------------------\u001b[0m",
      "\u001b[0;31mValueError\u001b[0m                                Traceback (most recent call last)",
      "Cell \u001b[0;32mIn[7], line 58\u001b[0m\n\u001b[1;32m     55\u001b[0m \u001b[38;5;28mprint\u001b[39m(p1\u001b[38;5;241m.\u001b[39mexibir())\n\u001b[1;32m     56\u001b[0m \u001b[38;5;28mprint\u001b[39m(p2\u001b[38;5;241m.\u001b[39mexibir())\n\u001b[0;32m---> 58\u001b[0m p3 \u001b[38;5;241m=\u001b[39m \u001b[43mFabricaPersonagem\u001b[49m\u001b[38;5;241;43m.\u001b[39;49m\u001b[43mcriar\u001b[49m\u001b[43m(\u001b[49m\u001b[38;5;124;43m'\u001b[39;49m\u001b[38;5;124;43mWhisper\u001b[39;49m\u001b[38;5;124;43m'\u001b[39;49m\u001b[43m,\u001b[49m\u001b[43m \u001b[49m\u001b[38;5;124;43m'\u001b[39;49m\u001b[38;5;124;43minvisivel\u001b[39;49m\u001b[38;5;124;43m'\u001b[39;49m\u001b[43m)\u001b[49m\n",
      "Cell \u001b[0;32mIn[7], line 48\u001b[0m, in \u001b[0;36mFabricaPersonagem.criar\u001b[0;34m(nome, poder)\u001b[0m\n\u001b[1;32m     46\u001b[0m \u001b[38;5;28;01mif\u001b[39;00m poder \u001b[38;5;241m==\u001b[39m \u001b[38;5;124m'\u001b[39m\u001b[38;5;124mmagia\u001b[39m\u001b[38;5;124m'\u001b[39m:\n\u001b[1;32m     47\u001b[0m     \u001b[38;5;28;01mreturn\u001b[39;00m Bruxa(nome, poder)\n\u001b[0;32m---> 48\u001b[0m \u001b[38;5;28;01mraise\u001b[39;00m \u001b[38;5;167;01mValueError\u001b[39;00m(\n\u001b[1;32m     49\u001b[0m     \u001b[38;5;124m'\u001b[39m\u001b[38;5;124mNão foi possível criar o personagem solicitado, verifique se você informou um poder válido\u001b[39m\u001b[38;5;124m'\u001b[39m\n\u001b[1;32m     50\u001b[0m )\n",
      "\u001b[0;31mValueError\u001b[0m: Não foi possível criar o personagem solicitado, verifique se você informou um poder válido"
     ]
    }
   ],
   "source": [
    "class Personagem:\n",
    "\n",
    "    def __init__(self, nome) -> None:\n",
    "        self.nome = nome\n",
    "\n",
    "    def exibir(self):\n",
    "        return f'Sou personagem {self.tipo} e tenho o poder de {self.poder}'\n",
    "\n",
    "\n",
    "class Vampiro(Personagem):\n",
    "\n",
    "    def __init__(self, nome, poder) -> None:\n",
    "        super().__init__(nome)\n",
    "        self.poder = poder\n",
    "        self.tipo = 'Vampiro'\n",
    "\n",
    "\n",
    "class Fantasma(Personagem):\n",
    "\n",
    "    def __init__(self, nome, poder) -> None:\n",
    "        super().__init__(nome)\n",
    "        self.poder = poder\n",
    "        self.tipo = 'Fantasma'\n",
    "\n",
    "\n",
    "class Lobisomem(Personagem):\n",
    "\n",
    "    def __init__(self, nome, poder) -> None:\n",
    "        super().__init__(nome)\n",
    "        self.poder = poder\n",
    "        self.tipo = 'Lobisomem'\n",
    "\n",
    "\n",
    "class Bruxa(Personagem):\n",
    "\n",
    "    def __init__(self, nome, poder) -> None:\n",
    "        super().__init__(nome)\n",
    "        self.poder = poder\n",
    "        self.tipo = 'Bruxa'\n",
    "\n",
    "\n",
    "class FabricaPersonagem:\n",
    "\n",
    "    @staticmethod\n",
    "    def criar(nome, poder):\n",
    "        if poder == 'voar':\n",
    "            return Vampiro(nome, poder)\n",
    "        if poder == 'invisibilidade':\n",
    "            return Fantasma(nome, poder)\n",
    "        if poder == 'força':\n",
    "            return Lobisomem(nome, poder)\n",
    "        if poder == 'magia':\n",
    "            return Bruxa(nome, poder)\n",
    "        raise ValueError(\n",
    "            'Não foi possível criar o personagem solicitado, verifique se você informou um poder válido'\n",
    "        )\n",
    "\n",
    "\n",
    "p1 = FabricaPersonagem.criar('Dracula', 'voar')\n",
    "p2 = FabricaPersonagem.criar('Morgana', 'magia')\n",
    "print(p1.exibir())\n",
    "print(p2.exibir())\n",
    "\n",
    "p3 = FabricaPersonagem.criar('Whisper', 'invisivel')"
   ]
  },
  {
   "cell_type": "markdown",
   "metadata": {},
   "source": [
    "## Padrão Abstract Factory\n",
    "\n",
    "O padrão **Abstract Factory** é um padrão de projeto criacional que fornece uma interface para criar familias de produtos relacionados, sem especificar as classes concretas dos produtos. Ele permite que o cliente crie familias de produtos de maneira consistente, sem precisas saber a implementação de cada produto.\n"
   ]
  },
  {
   "cell_type": "code",
   "execution_count": 10,
   "metadata": {},
   "outputs": [
    {
     "name": "stdout",
     "output_type": "stream",
     "text": [
      "Sou personagem Vampiro e tenho o poder de voar\n",
      "Sou a arma do tipo laser com poder de destruição de 10\n",
      "Sou personagem Bruxa e tenho o poder de magia\n",
      "Sou a arma do tipo biológica com poder de destruição de 30\n"
     ]
    }
   ],
   "source": [
    "class Arma:\n",
    "\n",
    "    def __init__(self, nome) -> None:\n",
    "        self.nome = nome\n",
    "\n",
    "    def exibir(self):\n",
    "        return f'Sou a arma do tipo {self.nome} com poder de destruição de {self.destruicao}'\n",
    "\n",
    "\n",
    "class ArmaLaser(Arma):\n",
    "\n",
    "    def __init__(self) -> None:\n",
    "        super().__init__('laser')\n",
    "        self.destruicao = 10\n",
    "\n",
    "\n",
    "class ArmaBiologica(Arma):\n",
    "\n",
    "    def __init__(self) -> None:\n",
    "        super().__init__('biológica')\n",
    "        self.destruicao = 30\n",
    "\n",
    "\n",
    "class ArmaNuclear(Arma):\n",
    "\n",
    "    def __init__(self) -> None:\n",
    "        super().__init__('nuclear')\n",
    "        self.destruicao = 50\n",
    "\n",
    "\n",
    "class FabricaArma:\n",
    "\n",
    "    @staticmethod\n",
    "    def criar(poder):\n",
    "        if poder == 'laser':\n",
    "            return ArmaLaser()\n",
    "        if poder == 'biológica':\n",
    "            return ArmaBiologica()\n",
    "        if poder == 'nuclear':\n",
    "            return ArmaNuclear()\n",
    "\n",
    "        raise ValueError(\n",
    "            'Não foi possível criar a arma solicitada, verifique se você informou um tipo válido'\n",
    "        )\n",
    "\n",
    "\n",
    "class PersonagemArmado:\n",
    "\n",
    "    @staticmethod\n",
    "    def criar(nome, poder, arma):\n",
    "        personagem = FabricaPersonagem.criar(nome, poder)\n",
    "        arma = FabricaArma.criar(arma)\n",
    "\n",
    "        return personagem, arma\n",
    "\n",
    "\n",
    "personagem_1, arma_1 = PersonagemArmado.criar('Dracula', 'voar', 'laser')\n",
    "personagem_2, arma_2 = PersonagemArmado.criar('Morgana', 'magia', 'biológica')\n",
    "\n",
    "print(personagem_1.exibir())\n",
    "print(arma_1.exibir())\n",
    "print(personagem_2.exibir())\n",
    "print(arma_2.exibir())"
   ]
  },
  {
   "cell_type": "code",
   "execution_count": null,
   "metadata": {},
   "outputs": [],
   "source": []
  }
 ],
 "metadata": {
  "kernelspec": {
   "display_name": ".venv",
   "language": "python",
   "name": "python3"
  },
  "language_info": {
   "codemirror_mode": {
    "name": "ipython",
    "version": 3
   },
   "file_extension": ".py",
   "mimetype": "text/x-python",
   "name": "python",
   "nbconvert_exporter": "python",
   "pygments_lexer": "ipython3",
   "version": "3.12.3"
  }
 },
 "nbformat": 4,
 "nbformat_minor": 2
}
